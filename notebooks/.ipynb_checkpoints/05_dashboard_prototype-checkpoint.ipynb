{
 "cells": [
  {
   "cell_type": "code",
   "execution_count": 3,
   "id": "71046080-6591-4d9f-80f8-ae93efdb73e4",
   "metadata": {},
   "outputs": [],
   "source": [
    "import os\n",
    "import joblib\n",
    "import streamlit as st\n",
    "import pandas as pd\n",
    "import numpy as np\n",
    "import matplotlib.pyplot as plt\n",
    "import seaborn as sns"
   ]
  },
  {
   "cell_type": "code",
   "execution_count": 4,
   "id": "2631e7cd-a32c-4c3b-8ef8-558d5b3b09f3",
   "metadata": {},
   "outputs": [
    {
     "ename": "NameError",
     "evalue": "name '__file__' is not defined",
     "output_type": "error",
     "traceback": [
      "\u001b[0;31m---------------------------------------------------------------------------\u001b[0m",
      "\u001b[0;31mNameError\u001b[0m                                 Traceback (most recent call last)",
      "Cell \u001b[0;32mIn[4], line 2\u001b[0m\n\u001b[1;32m      1\u001b[0m \u001b[38;5;66;03m# Get absolute path\u001b[39;00m\n\u001b[0;32m----> 2\u001b[0m current_dir \u001b[38;5;241m=\u001b[39m os\u001b[38;5;241m.\u001b[39mpath\u001b[38;5;241m.\u001b[39mdirname(os\u001b[38;5;241m.\u001b[39mpath\u001b[38;5;241m.\u001b[39mabspath(\u001b[38;5;18;43m__file__\u001b[39;49m))  \n\u001b[1;32m      3\u001b[0m model_path \u001b[38;5;241m=\u001b[39m os\u001b[38;5;241m.\u001b[39mpath\u001b[38;5;241m.\u001b[39mjoin(current_dir, \u001b[38;5;124m\"\u001b[39m\u001b[38;5;124m..\u001b[39m\u001b[38;5;124m\"\u001b[39m, \u001b[38;5;124m\"\u001b[39m\u001b[38;5;124mmodels\u001b[39m\u001b[38;5;124m\"\u001b[39m, \u001b[38;5;124m\"\u001b[39m\u001b[38;5;124mbest_tuned_model.pkl\u001b[39m\u001b[38;5;124m\"\u001b[39m)\n\u001b[1;32m      5\u001b[0m \u001b[38;5;66;03m# Check if the model exists before loading\u001b[39;00m\n",
      "\u001b[0;31mNameError\u001b[0m: name '__file__' is not defined"
     ]
    }
   ],
   "source": [
    "# Get absolute path\n",
    "current_dir = os.path.dirname(os.path.abspath(__file__))  \n",
    "model_path = os.path.join(current_dir, \"..\", \"models\", \"best_tuned_model.pkl\")\n",
    "\n",
    "# Check if the model exists before loading\n",
    "if not os.path.exists(model_path):\n",
    "    st.error(f\"❌ Model file not found at: {model_path}. Please train and save the model.\")\n",
    "    st.stop()\n",
    "\n",
    "# Load the best-tuned model\n",
    "model = joblib.load(model_path)\n",
    "\n",
    "st.title(\"Loan Default Prediction Dashboard\")\n",
    "st.write(\"Enter loan details to predict the default probability\")"
   ]
  },
  {
   "cell_type": "code",
   "execution_count": 9,
   "id": "3f3e2ea8-2fdd-4435-8f4c-be8a7239f734",
   "metadata": {},
   "outputs": [
    {
     "name": "stderr",
     "output_type": "stream",
     "text": [
      "2025-01-26 19:05:33.758 Thread 'MainThread': missing ScriptRunContext! This warning can be ignored when running in bare mode.\n",
      "2025-01-26 19:05:33.759 Thread 'MainThread': missing ScriptRunContext! This warning can be ignored when running in bare mode.\n",
      "2025-01-26 19:05:33.760 Thread 'MainThread': missing ScriptRunContext! This warning can be ignored when running in bare mode.\n",
      "2025-01-26 19:05:33.761 Thread 'MainThread': missing ScriptRunContext! This warning can be ignored when running in bare mode.\n",
      "2025-01-26 19:05:33.762 Thread 'MainThread': missing ScriptRunContext! This warning can be ignored when running in bare mode.\n",
      "2025-01-26 19:05:33.763 Thread 'MainThread': missing ScriptRunContext! This warning can be ignored when running in bare mode.\n",
      "2025-01-26 19:05:33.764 Thread 'MainThread': missing ScriptRunContext! This warning can be ignored when running in bare mode.\n",
      "2025-01-26 19:05:33.765 Thread 'MainThread': missing ScriptRunContext! This warning can be ignored when running in bare mode.\n",
      "2025-01-26 19:05:33.765 Thread 'MainThread': missing ScriptRunContext! This warning can be ignored when running in bare mode.\n",
      "2025-01-26 19:05:33.766 Thread 'MainThread': missing ScriptRunContext! This warning can be ignored when running in bare mode.\n",
      "2025-01-26 19:05:33.767 Thread 'MainThread': missing ScriptRunContext! This warning can be ignored when running in bare mode.\n",
      "2025-01-26 19:05:33.767 Thread 'MainThread': missing ScriptRunContext! This warning can be ignored when running in bare mode.\n",
      "2025-01-26 19:05:33.768 Thread 'MainThread': missing ScriptRunContext! This warning can be ignored when running in bare mode.\n",
      "2025-01-26 19:05:33.768 Thread 'MainThread': missing ScriptRunContext! This warning can be ignored when running in bare mode.\n",
      "2025-01-26 19:05:33.769 Thread 'MainThread': missing ScriptRunContext! This warning can be ignored when running in bare mode.\n",
      "2025-01-26 19:05:33.770 Thread 'MainThread': missing ScriptRunContext! This warning can be ignored when running in bare mode.\n",
      "2025-01-26 19:05:33.770 Thread 'MainThread': missing ScriptRunContext! This warning can be ignored when running in bare mode.\n",
      "2025-01-26 19:05:33.771 Thread 'MainThread': missing ScriptRunContext! This warning can be ignored when running in bare mode.\n",
      "2025-01-26 19:05:33.772 Thread 'MainThread': missing ScriptRunContext! This warning can be ignored when running in bare mode.\n",
      "2025-01-26 19:05:33.772 Thread 'MainThread': missing ScriptRunContext! This warning can be ignored when running in bare mode.\n",
      "2025-01-26 19:05:33.773 Thread 'MainThread': missing ScriptRunContext! This warning can be ignored when running in bare mode.\n",
      "2025-01-26 19:05:33.773 Thread 'MainThread': missing ScriptRunContext! This warning can be ignored when running in bare mode.\n",
      "2025-01-26 19:05:33.773 Thread 'MainThread': missing ScriptRunContext! This warning can be ignored when running in bare mode.\n",
      "2025-01-26 19:05:33.774 Thread 'MainThread': missing ScriptRunContext! This warning can be ignored when running in bare mode.\n",
      "2025-01-26 19:05:33.774 Thread 'MainThread': missing ScriptRunContext! This warning can be ignored when running in bare mode.\n",
      "2025-01-26 19:05:33.775 Thread 'MainThread': missing ScriptRunContext! This warning can be ignored when running in bare mode.\n",
      "2025-01-26 19:05:33.775 Thread 'MainThread': missing ScriptRunContext! This warning can be ignored when running in bare mode.\n",
      "2025-01-26 19:05:33.776 Thread 'MainThread': missing ScriptRunContext! This warning can be ignored when running in bare mode.\n",
      "2025-01-26 19:05:33.776 Thread 'MainThread': missing ScriptRunContext! This warning can be ignored when running in bare mode.\n",
      "2025-01-26 19:05:33.777 Thread 'MainThread': missing ScriptRunContext! This warning can be ignored when running in bare mode.\n",
      "2025-01-26 19:05:33.777 Thread 'MainThread': missing ScriptRunContext! This warning can be ignored when running in bare mode.\n",
      "2025-01-26 19:05:33.777 Thread 'MainThread': missing ScriptRunContext! This warning can be ignored when running in bare mode.\n"
     ]
    }
   ],
   "source": [
    "st.sidebar.header(\"Enter loan details\")\n",
    "\n",
    "\n",
    "# Collect user inputs\n",
    "\n",
    "loan_amount = st.sidebar.number_input(\"Loan Amount ($)\", min_value=1000, max_value=1000000, step=500)\n",
    "interest_rate = st.sidebar.slider(\"Interest Rate (%)\", min_value=1.0, max_value=30.0, step=0.1)\n",
    "credit_score = st.sidebar.slider(\"Credit Score\", min_value=300, max_value=850, step=10)\n",
    "income = st.sidebar.number_input(\"Annual Income ($)\", min_value=10000, max_value=500000, step=1000)\n",
    "employment_years = st.sidebar.slider(\"Years at Current Job\", min_value=0, max_value=40, step=1)\n",
    "\n",
    "\n",
    "# Convert inputs into DataFrame\n",
    "\n",
    "input_data = pd.DataFrame({\n",
    "    \"loan_amount\": [loan_amount],\n",
    "    \"interest_rate\": [interest_rate],\n",
    "    \"credit_score\": [credit_score],\n",
    "    \"income\": [income],\n",
    "    \"employment_years\": [employment_years]\n",
    "})\n",
    "\n"
   ]
  },
  {
   "cell_type": "code",
   "execution_count": 10,
   "id": "4cc79abe-e105-4d29-9f4a-7a3ab7750a63",
   "metadata": {},
   "outputs": [
    {
     "name": "stderr",
     "output_type": "stream",
     "text": [
      "2025-01-26 19:05:34.275 Thread 'MainThread': missing ScriptRunContext! This warning can be ignored when running in bare mode.\n",
      "2025-01-26 19:05:34.277 Thread 'MainThread': missing ScriptRunContext! This warning can be ignored when running in bare mode.\n",
      "2025-01-26 19:05:34.278 Thread 'MainThread': missing ScriptRunContext! This warning can be ignored when running in bare mode.\n",
      "2025-01-26 19:05:34.278 Thread 'MainThread': missing ScriptRunContext! This warning can be ignored when running in bare mode.\n",
      "2025-01-26 19:05:34.279 Thread 'MainThread': missing ScriptRunContext! This warning can be ignored when running in bare mode.\n"
     ]
    }
   ],
   "source": [
    "# Predicting loan default probability\n",
    "\n",
    "if st.sidebar.button(\"Predict Default Risk\"):\n",
    "    prediction = model.predict_proba(input_data)[0][1]    # Probability of default\n",
    "    st.subheader(f\"Estimated Default Probability: {prediction:.2%}\")\n",
    "\n",
    "    # Displaying risk level\n",
    "    \n",
    "    if prediction < 0.3:\n",
    "        st.success(\"Low Risk - Loan Likely to be Approved!\")\n",
    "    elif prediction < 0.7:\n",
    "        st.warning(\"Medium Risk - Further Evaluation Needed.\")\n",
    "    else:\n",
    "        st.error(\"High Risk - Loan Likely to be Denied.\")\n"
   ]
  },
  {
   "cell_type": "code",
   "execution_count": 11,
   "id": "83683f15-47bd-401b-895b-0d714942e44b",
   "metadata": {},
   "outputs": [
    {
     "name": "stderr",
     "output_type": "stream",
     "text": [
      "2025-01-26 19:05:34.892 Thread 'MainThread': missing ScriptRunContext! This warning can be ignored when running in bare mode.\n",
      "2025-01-26 19:05:34.894 Thread 'MainThread': missing ScriptRunContext! This warning can be ignored when running in bare mode.\n"
     ]
    },
    {
     "ename": "NameError",
     "evalue": "name 'X_train' is not defined",
     "output_type": "error",
     "traceback": [
      "\u001b[0;31m---------------------------------------------------------------------------\u001b[0m",
      "\u001b[0;31mNameError\u001b[0m                                 Traceback (most recent call last)",
      "Cell \u001b[0;32mIn[11], line 7\u001b[0m\n\u001b[1;32m      4\u001b[0m \u001b[38;5;66;03m# Visualization: Loan Amount vs Default Probability\u001b[39;00m\n\u001b[1;32m      6\u001b[0m fig, ax \u001b[38;5;241m=\u001b[39m plt\u001b[38;5;241m.\u001b[39msubplots()\n\u001b[0;32m----> 7\u001b[0m sns\u001b[38;5;241m.\u001b[39mscatterplot(x\u001b[38;5;241m=\u001b[39m\u001b[43mX_train\u001b[49m[\u001b[38;5;124m\"\u001b[39m\u001b[38;5;124mloan_amount\u001b[39m\u001b[38;5;124m\"\u001b[39m], y\u001b[38;5;241m=\u001b[39mmodel\u001b[38;5;241m.\u001b[39mpredict_proba(X_train)[:, \u001b[38;5;241m1\u001b[39m], alpha\u001b[38;5;241m=\u001b[39m\u001b[38;5;241m0.5\u001b[39m)\n\u001b[1;32m      8\u001b[0m ax\u001b[38;5;241m.\u001b[39mset_xlabel(\u001b[38;5;124m\"\u001b[39m\u001b[38;5;124mLoan Amount ($)\u001b[39m\u001b[38;5;124m\"\u001b[39m)\n\u001b[1;32m      9\u001b[0m ax\u001b[38;5;241m.\u001b[39mset_ylabel(\u001b[38;5;124m\"\u001b[39m\u001b[38;5;124mDefault Probability\u001b[39m\u001b[38;5;124m\"\u001b[39m)\n",
      "\u001b[0;31mNameError\u001b[0m: name 'X_train' is not defined"
     ]
    }
   ],
   "source": [
    "st.subheader(\"Loan Approval Insights\")\n",
    "\n",
    "\n",
    "# Visualization: Loan Amount vs Default Probability\n",
    "\n",
    "fig, ax = plt.subplots()\n",
    "sns.scatterplot(x=X_train[\"loan_amount\"], y=model.predict_proba(X_train)[:, 1], alpha=0.5)\n",
    "ax.set_xlabel(\"Loan Amount ($)\")\n",
    "ax.set_ylabel(\"Default Probability\")\n",
    "st.pyplot(fig)"
   ]
  },
  {
   "cell_type": "code",
   "execution_count": null,
   "id": "2f747834-af6c-486e-84f7-aac9794ea541",
   "metadata": {},
   "outputs": [],
   "source": []
  },
  {
   "cell_type": "code",
   "execution_count": null,
   "id": "3094fbff-01d1-4f59-a8c7-f47fceaaa5a7",
   "metadata": {},
   "outputs": [],
   "source": []
  }
 ],
 "metadata": {
  "kernelspec": {
   "display_name": "Python (venv)",
   "language": "python",
   "name": "venv"
  },
  "language_info": {
   "codemirror_mode": {
    "name": "ipython",
    "version": 3
   },
   "file_extension": ".py",
   "mimetype": "text/x-python",
   "name": "python",
   "nbconvert_exporter": "python",
   "pygments_lexer": "ipython3",
   "version": "3.13.1"
  }
 },
 "nbformat": 4,
 "nbformat_minor": 5
}
