{
 "cells": [
  {
   "cell_type": "code",
   "execution_count": 7,
   "id": "79a15085-248d-492d-a5b9-c881c3610b50",
   "metadata": {},
   "outputs": [
    {
     "name": "stdout",
     "output_type": "stream",
     "text": [
      "Feature Names Used During Training:\n",
      "['ID' 'year' 'loan_limit' 'approv_in_adv' 'Credit_Worthiness'\n",
      " 'open_credit' 'business_or_commercial' 'loan_amount' 'rate_of_interest'\n",
      " 'Interest_rate_spread' 'Upfront_charges' 'term' 'Neg_ammortization'\n",
      " 'interest_only' 'lump_sum_payment' 'property_value' 'construction_type'\n",
      " 'Secured_by' 'income' 'Credit_Score' 'co-applicant_credit_type'\n",
      " 'submission_of_application' 'LTV' 'Security_Type' 'dtir1' 'Gender_Joint'\n",
      " 'Gender_Male' 'Gender_Sex Not Available' 'loan_type_type2'\n",
      " 'loan_type_type3' 'loan_purpose_p2' 'loan_purpose_p3' 'loan_purpose_p4'\n",
      " 'occupancy_type_pr' 'occupancy_type_sr' 'total_units_2U' 'total_units_3U'\n",
      " 'total_units_4U' 'credit_type_CRIF' 'credit_type_EQUI' 'credit_type_EXP'\n",
      " 'age_35-44' 'age_45-54' 'age_55-64' 'age_65-74' 'age_<25' 'age_>74'\n",
      " 'Region_North-East' 'Region_central' 'Region_south']\n"
     ]
    }
   ],
   "source": [
    "import joblib\n",
    "\n",
    "# Load your trained model\n",
    "model = joblib.load(\"../models/best_tuned_model.pkl\")  \n",
    "\n",
    "# Print the features the model expects\n",
    "print(\"Feature Names Used During Training:\")\n",
    "print(model.feature_names_in_)"
   ]
  },
  {
   "cell_type": "code",
   "execution_count": null,
   "id": "0a22be01-8011-400e-a575-918ecaf18773",
   "metadata": {},
   "outputs": [],
   "source": []
  }
 ],
 "metadata": {
  "kernelspec": {
   "display_name": "Python (venv)",
   "language": "python",
   "name": "venv"
  },
  "language_info": {
   "codemirror_mode": {
    "name": "ipython",
    "version": 3
   },
   "file_extension": ".py",
   "mimetype": "text/x-python",
   "name": "python",
   "nbconvert_exporter": "python",
   "pygments_lexer": "ipython3",
   "version": "3.13.1"
  }
 },
 "nbformat": 4,
 "nbformat_minor": 5
}
