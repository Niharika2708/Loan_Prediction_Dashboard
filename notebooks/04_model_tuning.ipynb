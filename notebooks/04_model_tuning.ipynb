{
 "cells": [
  {
   "cell_type": "code",
   "execution_count": 1,
   "id": "68814b14-1b98-47a6-9796-0f9a06b293c6",
   "metadata": {},
   "outputs": [],
   "source": [
    "import joblib\n",
    "import numpy as np\n",
    "import pandas as pd\n",
    "\n",
    "from sklearn.ensemble import GradientBoostingClassifier\n",
    "from sklearn.metrics import accuracy_score, classification_report\n",
    "from sklearn.model_selection import GridSearchCV, RandomizedSearchCV\n",
    "\n",
    "\n",
    "# Load training and test data\n",
    "\n",
    "X_train = pd.read_csv(\"../Data/X_train.csv\")\n",
    "X_test = pd.read_csv(\"../Data/X_test.csv\")\n",
    "y_train = pd.read_csv(\"../Data/y_train.csv\").values.ravel()\n",
    "y_test = pd.read_csv(\"../Data/y_test.csv\").values.ravel()\n",
    "\n",
    "\n",
    "# Load saved best model\n",
    "\n",
    "best_model = joblib.load(\"../models/best_model.pkl\")\n"
   ]
  },
  {
   "cell_type": "code",
   "execution_count": 2,
   "id": "ed94d0c5-1c2f-40d9-a456-47e66d498b59",
   "metadata": {},
   "outputs": [],
   "source": [
    "# Define hyperparameter grid for tuning\n",
    "\n",
    "param_grid = {\n",
    "    'n_estimators': [50, 100, 200],      #  Number of trees\n",
    "    'learning_rate': [0.01, 0.1, 0.2],   #  How much each tree contributes\n",
    "    'max_depth': [3, 5, 7],              #  Depth of each tree\n",
    "    'subsample': [0.8, 1.0],             #  Percentage of samples\n",
    "} "
   ]
  },
  {
   "cell_type": "code",
   "execution_count": 3,
   "id": "99569109-b824-41eb-95b4-a03e1df100a7",
   "metadata": {},
   "outputs": [
    {
     "name": "stdout",
     "output_type": "stream",
     "text": [
      "Fitting 3 folds for each of 54 candidates, totalling 162 fits\n",
      "Best Hyperparameters:  {'learning_rate': 0.01, 'max_depth': 7, 'n_estimators': 50, 'subsample': 0.8}\n"
     ]
    }
   ],
   "source": [
    "# Perform exhaustive search\n",
    "\n",
    "grid_search = GridSearchCV(GradientBoostingClassifier(), param_grid, cv=3, scoring='accuracy', n_jobs=-1, verbose=2)\n",
    "grid_search.fit(X_train, y_train)\n",
    "\n",
    "print(\"Best Hyperparameters: \", grid_search.best_params_)"
   ]
  },
  {
   "cell_type": "code",
   "execution_count": 9,
   "id": "801f80d0-8d98-4a12-a1cf-c33bc398fb81",
   "metadata": {},
   "outputs": [
    {
     "name": "stdout",
     "output_type": "stream",
     "text": [
      "Fitting 3 folds for each of 10 candidates, totalling 30 fits\n",
      "Best Hyperparameters (Randomized Search):  {'subsample': 0.8, 'n_estimators': 50, 'max_depth': 7, 'learning_rate': 0.01}\n"
     ]
    }
   ],
   "source": [
    "# Randomized search for best parameters\n",
    "\n",
    "random_search = RandomizedSearchCV(GradientBoostingClassifier(), param_grid, cv=3, scoring='accuracy', n_iter=10, n_jobs=-1, verbose=2, random_state=42)\n",
    "random_search.fit(X_train, y_train)\n",
    "\n",
    "print(\"Best Hyperparameters (Randomized Search): \", random_search.best_params_)"
   ]
  },
  {
   "cell_type": "code",
   "execution_count": 10,
   "id": "3443bb7e-5a16-4868-b089-8a8221d3235e",
   "metadata": {},
   "outputs": [
    {
     "name": "stdout",
     "output_type": "stream",
     "text": [
      "Optimized Gradient Boosting Performance:\n",
      "Accuracy: 0.9999663684670748\n",
      "              precision    recall  f1-score   support\n",
      "\n",
      "           0       1.00      1.00      1.00     22494\n",
      "           1       1.00      1.00      1.00      7240\n",
      "\n",
      "    accuracy                           1.00     29734\n",
      "   macro avg       1.00      1.00      1.00     29734\n",
      "weighted avg       1.00      1.00      1.00     29734\n",
      "\n"
     ]
    }
   ],
   "source": [
    "# Using best parameters to train a final optimized model\n",
    "\n",
    "best_params = random_search.best_params_    #  Parameters from randomized search\n",
    "\n",
    "\n",
    "# Training optimized Gradient Boosting Model\n",
    "\n",
    "tuned_gbm = GradientBoostingClassifier(**best_params, random_state=42)\n",
    "tuned_gbm.fit(X_train, y_train)\n",
    "\n",
    "\n",
    "# Make predictions\n",
    "\n",
    "y_pred_tuned = tuned_gbm.predict(X_test)\n",
    "\n",
    "\n",
    "# Evaluate performance\n",
    "\n",
    "print(\"Optimized Gradient Boosting Performance:\")\n",
    "print(\"Accuracy:\", accuracy_score(y_test, y_pred_tuned))\n",
    "print(classification_report(y_test, y_pred_tuned))"
   ]
  },
  {
   "cell_type": "code",
   "execution_count": 11,
   "id": "18c093b3-3c77-4802-9f6b-331661043298",
   "metadata": {},
   "outputs": [
    {
     "name": "stdout",
     "output_type": "stream",
     "text": [
      "Best tuned model saved as '../models/best_tuned_model.pkl'\n"
     ]
    }
   ],
   "source": [
    "# Saving the optimized model\n",
    "\n",
    "joblib.dump(tuned_gbm, \"../models/best_tuned_model.pkl\")\n",
    "print(\"Best tuned model saved as '../models/best_tuned_model.pkl'\")"
   ]
  },
  {
   "cell_type": "code",
   "execution_count": null,
   "id": "6a876cdc-6894-4cbe-8005-cd8be5d064b7",
   "metadata": {},
   "outputs": [],
   "source": []
  }
 ],
 "metadata": {
  "kernelspec": {
   "display_name": "Python (venv)",
   "language": "python",
   "name": "venv"
  },
  "language_info": {
   "codemirror_mode": {
    "name": "ipython",
    "version": 3
   },
   "file_extension": ".py",
   "mimetype": "text/x-python",
   "name": "python",
   "nbconvert_exporter": "python",
   "pygments_lexer": "ipython3",
   "version": "3.13.1"
  }
 },
 "nbformat": 4,
 "nbformat_minor": 5
}
